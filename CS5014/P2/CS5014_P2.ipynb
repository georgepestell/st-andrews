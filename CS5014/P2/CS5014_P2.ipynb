{
 "cells": [
  {
   "cell_type": "markdown",
   "id": "97a705a7",
   "metadata": {},
   "source": [
    "# CS5014 Machine Learning \n",
    "\n",
    "#### Practical 2\n",
    "###### Credits: 50% of the coursework"
   ]
  },
  {
   "cell_type": "markdown",
   "id": "d91b6952",
   "metadata": {},
   "source": [
    "#### Student ID: 200007413"
   ]
  },
  {
   "cell_type": "markdown",
   "id": "3e26dde6",
   "metadata": {},
   "source": [
    "## Aims\n",
    "\n",
    "\n",
    "The objectives of this assignment are:\n",
    "\n",
    "* deepen your understanding of probabilistic generative models\n",
    "* deepen your understanding of the EM algorithm\n",
    "* gain experience in implementing generative AI models with latent variables"
   ]
  },
  {
   "cell_type": "markdown",
   "id": "f662dc6a",
   "metadata": {},
   "source": [
    "## Set-up\n",
    "\n",
    "You are **only allowed** to use the following imported packages for this practical. "
   ]
  },
  {
   "cell_type": "code",
   "execution_count": 4,
   "id": "931f3a91",
   "metadata": {},
   "outputs": [],
   "source": [
    "# if you use jupyter-lab, switch to %matplotlib inline instead\n",
    "%matplotlib inline\n",
    "# %matplotlib notebook\n",
    "%config Completer.use_jedi = False\n",
    "import matplotlib.pyplot as plt\n",
    "import numpy as np\n",
    "import pandas as pd\n",
    "from scipy.special import logsumexp\n",
    "from scipy.special import softmax\n",
    "import numpy.linalg as linalg\n",
    "from sklearn.cluster import KMeans\n",
    "from sklearn import metrics\n",
    "import scipy.sparse as sparse"
   ]
  },
  {
   "cell_type": "code",
   "execution_count": 5,
   "id": "1e65b3e5-6f2c-4f10-9366-9a820ccf57e0",
   "metadata": {},
   "outputs": [],
   "source": [
    "# use fixed random number generator seed \n",
    "random_seed = 123\n",
    "rng = np.random.default_rng(random_seed)"
   ]
  },
  {
   "cell_type": "markdown",
   "id": "623a5d9e-e308-42c9-8dc8-d5d42c4055fa",
   "metadata": {},
   "source": [
    "In addition, we are going to use some functions from `sklearn`\n",
    "* to use the ordinary `K-means` as a baseline\n",
    "* to evaluate clustering performance of a clustering algorithm; read further for a quick demonstration"
   ]
  },
  {
   "cell_type": "markdown",
   "id": "d211324e",
   "metadata": {},
   "source": [
    "## Question 1 (Spherical K-means)\n",
    "\n",
    "In this question, you are going to implement a variant of K-means algorithm, which is called *Spherical K-means*. This algorithm is a popular clustering algorithm for text data.\n",
    "\n",
    "### The dataset & K-means baseline\n",
    "The 20 Newsgourps text dataset is used for this question. The dataset comprises around 18000 posts on 20 topics. For simplicity, we are going to use documents from the following three topics\n",
    "* talk, religion & misc\n",
    "* computer graphics\n",
    "* science & space\n",
    "\n",
    "The documents have been transformed by `Bag of Words` followed by `Tfidf` vectorisation (more details can be found [here](https://scikit-learn.org/stable/tutorial/text_analytics/working_with_text_data.html)). As a result, each document is represented by an $\\mathbb{R}^{3000}$ vector, where each dimension corresponds to a word in the term dictionary. And there are in total $n=2501$ documents. The data, a matrix of size ${2501\\times 3000}$ together with the corresponding encoding information, is imported for you below.\n",
    "* `X_news`: a $2501 \\times 3000$ document-term matrix to cluster\n",
    "* `news_labels`: a $2501\\times 1$ vector encoding the true topic/cluster of the documents\n",
    "* `news_terms`: a $3000\\times 1$ vector of the terms (`string` typed)"
   ]
  },
  {
   "cell_type": "code",
   "execution_count": 6,
   "id": "34706afa",
   "metadata": {},
   "outputs": [],
   "source": [
    "# read in X_news data \n",
    "X_npz = sparse.load_npz('./datasets/newsdata.npz')\n",
    "X_news = X_npz.toarray()\n",
    "# read in the associated TfIdf encoding information\n",
    "news_labels = np.squeeze(np.array(pd.read_csv('./datasets/newsdata_labels.csv', header=None), dtype=int))\n",
    "news_terms = np.squeeze(np.array(pd.read_csv('./datasets/newsdata_terms.csv', header=None)))"
   ]
  },
  {
   "cell_type": "markdown",
   "id": "19e3b086",
   "metadata": {},
   "source": [
    "#### Apply `Kmeans` & clustering evaluation\n",
    "\n",
    "We aim to cluster the documents unsupervisedly. Such a task is known as \"topic modelling\" in NLP. Ideally, we want those similar themed documents being clustered together to form a \"topic\".\n",
    "\n",
    "The code below demonstrates  \n",
    "* apply `Kmeans` from `sklearn` to cluster the documents\n",
    "* and evaluate the clustering performance by adjusted rand index & V-measure"
   ]
  },
  {
   "cell_type": "code",
   "execution_count": 7,
   "id": "d87aa88b",
   "metadata": {},
   "outputs": [],
   "source": [
    "km_rst = KMeans(n_clusters=3, max_iter=100, n_init=5, random_state=234).fit(X_news)"
   ]
  },
  {
   "cell_type": "code",
   "execution_count": 8,
   "id": "cd11514f",
   "metadata": {},
   "outputs": [
    {
     "name": "stdout",
     "output_type": "stream",
     "text": [
      "Adjusted rand index (Kmeans):  -0.00051\n",
      "V-measure (Kmeans):   0.00587\n"
     ]
    }
   ],
   "source": [
    "km_ridx = metrics.adjusted_rand_score(news_labels, km_rst.labels_)\n",
    "km_vm = metrics.v_measure_score(news_labels, km_rst.labels_)\n",
    "print(\"Adjusted rand index (Kmeans): \", f\"{km_ridx: .5f}\")\n",
    "print(\"V-measure (Kmeans): \", f\"{km_vm: .5f}\")"
   ]
  },
  {
   "cell_type": "markdown",
   "id": "22cfcc96-95f0-4080-b1b6-f5ff7e09f7d3",
   "metadata": {},
   "source": [
    "We evaluate the `Kmeans` clustering by using the adjusted rand index & V-measure\n",
    "* the adjusted rand index (ranging from $-0.5$ to $1$; higher is better) is  -0.00051\n",
    "* and V-measure (ranging from $0$ and $1$; higher is better) is 0.00587\n",
    "* both indicate that `Kmeans` performs really bad; in particular, a negative adjusted rand index indicates the clustering is worse than random guess"
   ]
  },
  {
   "cell_type": "markdown",
   "id": "9fd7bc37-1652-47a8-bf58-6364629871ce",
   "metadata": {},
   "source": [
    "#### The mined \"topics\"\n",
    "We can also discover the \"topics\" from the clustering result. That is, for each of the cluster center $\\boldsymbol{\\mu}_k \\in \\mathbb{R}^{3000}$, we find the top $T$, say $T=15$, most popular terms."
   ]
  },
  {
   "cell_type": "code",
   "execution_count": 9,
   "id": "7446a257-c5f8-42f4-92b5-caaa836ce5f4",
   "metadata": {},
   "outputs": [
    {
     "name": "stdout",
     "output_type": "stream",
     "text": [
      "Cluster 0: edu image pub graphics data ftp 128 available lord package mail software images processing 3d \n",
      "Cluster 1: space like god people just don nasa know time think image earth does use program \n",
      "Cluster 2: jpeg gif image file color format quality images jfif version free files programs bit quicktime \n"
     ]
    }
   ],
   "source": [
    "def print_topics(terms, us, T=15):\n",
    "    for i in range(3):\n",
    "        print(f\"Cluster {i}: \", end=\"\")\n",
    "        for ind in (-us[i, :]).argsort()[:T]:\n",
    "            print(f\"{terms[ind]} \", end=\"\")\n",
    "        print()\n",
    "\n",
    "print_topics(news_terms, km_rst.cluster_centers_, 15)"
   ]
  },
  {
   "cell_type": "markdown",
   "id": "45c04f1b-091d-4b6d-ad65-ea884530b4e5",
   "metadata": {},
   "source": [
    "`Kmeans` failed to group the documents in a clean and meaningful way (recall the three topics are religion, science-space and computer graphics)\n",
    "* it seems `cluster 0` is a mixture of both graphics and religion\n",
    "* and the rest are all a bit mixed; "
   ]
  },
  {
   "cell_type": "markdown",
   "id": "64f77036-383f-4c27-b7e0-f3071e80cde3",
   "metadata": {},
   "source": [
    "### Spherical K-means\n",
    "\n",
    "Your task is to implement a variant of K-means algorithm, which is called *Spherical K-means*. The algorithm is listed below.\n",
    "\n",
    "\n",
    "\n",
    "**Initialisation step**: Start with randomly selecting $K$ data points as the centroids. \n",
    "\n",
    "**Assignment step**: *Spherical K-means* assigns a data point to the closest centroid based on *cosine distance* rather than Euclidean distance; specifically, for $i=1,\\ldots, n$\n",
    "\n",
    "$$z^{(i)} \\leftarrow \\arg\\min_{k} \\left (1- \\frac{\\boldsymbol{\\mu}_k^\\top \\mathbf{x}^{(i)} }{\\|\\boldsymbol{\\mu}_k\\| \\cdot \\|\\mathbf{x}^{(i)}\\|}\\right ),$$\n",
    "\n",
    "* where $\\boldsymbol{\\mu}_k^\\top \\mathbf{x}^{(i)} = \\sum_{j=1}^d {\\mu}_{kj} \\cdot {x}^{(i)}_{j}$ denotes the inner product and $\\|\\mathbf{x}\\|$ is $L_2$ norm of a vector $\\mathbf{x}$: $\\|\\mathbf{x}\\| = \\sqrt{\\mathbf{x}^\\top \\mathbf{x}}$.\n",
    "\n",
    "**Update step**: *Spherical K-means* updates the centroids such that they are unit one vectors; for $k=1,\\ldots, K$\n",
    "\n",
    "$$\\boldsymbol{\\mu}_k \\leftarrow \\frac{\\sum_{i=1}^n \\mathbb{1}(z^{(i)} =k) \\cdot  \\mathbf{x}^{(i)}}{\\|\\sum_{i=1}^n \\mathbb{1}(z^{(i)} =k) \\cdot \\mathbf{x}^{(i)}\\|}.$$ \n",
    "\n",
    "* Note that after the normalisation step, the centroids $\\boldsymbol{\\mu}_k$ are norm-one vectors: i.e. $\\|\\boldsymbol{\\mu}_k\\| = 1$ for $k=1,\\ldots, K$.\n",
    "\n",
    "**Repeat** the above two steps **until** the total cosine distance loss converges, where the loss is defined as\n",
    "\n",
    "$$\\texttt{loss} = \\sum_{i=1}^n \\left (1- \\frac{\\boldsymbol{\\mu}_{z^{(i)}}^\\top \\mathbf{x}^{(i)} }{\\|\\boldsymbol{\\mu}_{z^{(i)}}\\| \\cdot \\|\\mathbf{x}^{(i)}\\|}\\right ).$$\n"
   ]
  },
  {
   "cell_type": "markdown",
   "id": "ecb30564-caf5-432e-a42b-4d85ecef11bf",
   "metadata": {},
   "source": [
    "\n",
    "### Task 1.1 Implementation of Spherical K-means\n",
    "\n",
    "Implement the `sphericalKmeans` algorithm. The method `sphericalKmeans` has\n",
    "\n",
    "**Inputs**:\n",
    "* `data`: a $n\\times d$ matrix to cluster, i.e. each row of $\\texttt{data}$ is one observation $\\mathbf{x}^{(i)}$\n",
    "* `K`: the number of the clusters\n",
    "* `tol`: tolerence of error, which is used to check whether the loss has converged so the iteration can stop\n",
    "* `maxIters`: the maximum number of iterations that is allowed\n",
    "\n",
    "**Outputs**:\n",
    "\n",
    "* `losses`: the whole trajectory of losses over the iterations\n",
    "* `zs`: the clustering labels\n",
    "* `us`: the learnt $K$ centroids\n",
    "\n",
    "**Hint**: \n",
    "* write helper methods such as `assign_step` and `update_step`; \n",
    "* do plenty of unit tests whenever you finish implementing one method\n",
    "* start with something simple and correct then refine it iteratively (to improve efficiency & vectorisation);\n",
    "* vectorise your code (use `numpy` as much as possible). If you use Python, you **should avoid writing plain loops at all cost** *i.e.* to iterate observations one-by-one individually; Julia's loop is very fast but vectorisation should be adopted to make it even faster\n",
    "  * as an extra hint, part of the update step can be implemented as matrix matrix multiplication if you zero-hot encode the assignment vector `zs` \n",
    "\n",
    "* efficiency is not the most important concern, but it does matter; consider caching computed results rather than recomputing them in a loop over and over again\n"
   ]
  },
  {
   "cell_type": "code",
   "execution_count": 10,
   "id": "9d05d4b8-5450-4a14-b677-c73b25d86faa",
   "metadata": {},
   "outputs": [],
   "source": [
    "def assign_step(data, us, K):\n",
    "    n, d = data.shape\n",
    "    Z = np.zeros((n, K))\n",
    "    for k in range(K):\n",
    "        Z[:, k] = 1 - ((np.dot(us[k],data.T)) / (np.dot(np.linalg.norm(us[k]), np.linalg.norm(data))))\n",
    "    return Z, np.argmin(Z, axis=1)\n",
    "\n",
    "def update_step(data, zs, K):\n",
    "    n, d = data.shape\n",
    "    us = np.zeros((K, d))\n",
    "    for k in range(K):\n",
    "        us[k] = np.mean(data[zs == k], axis=0)\n",
    "    return us\n",
    "\n",
    "def calculate_loss(data, us, zs):\n",
    "    n, d = data.shape\n",
    "    loss = np.zeros(n)\n",
    "    for i in range(n):\n",
    "        loss[i] = 1 - ((np.dot(us[zs[i]],data[i])) / (np.dot(np.linalg.norm(us[zs[i]]), np.linalg.norm(data[i]))))\n",
    "    return loss.sum()\n",
    "    \n",
    "def sphericalKmeans(data, K=3, tol= 1e-4, maxIters= 100):\n",
    "    n, d = data.shape\n",
    "    losses = []\n",
    "    # initialisation: randomly assign K observations as centroids\n",
    "    # feel free to use a different but sensible initialisation method    \n",
    "    init_us_ids = rng.integers(n, size = K)\n",
    "    us = data[init_us_ids, :]\n",
    "    Z = np.zeros((n, K))\n",
    "    zs = np.zeros(n, dtype=int)\n",
    "    losses.append(calculate_loss(data, us, zs))\n",
    "    # loop until converge \n",
    "    for i in range(maxIters):\n",
    "        # assignment step\n",
    "        Z, zs = assign_step(data, us, K)\n",
    "\n",
    "        # update step\n",
    "        us = update_step(data, zs, K)\n",
    "\n",
    "        # convergence check   \n",
    "        losses.append(calculate_loss(data, us, zs))\n",
    "\n",
    "        if len(losses) > 1 and abs(losses[-2] - losses[-1]) < tol:\n",
    "            break\n",
    "    return losses, us, zs"
   ]
  },
  {
   "cell_type": "markdown",
   "id": "9811e507-1e6e-4444-aac7-a9b890f903ac",
   "metadata": {},
   "source": [
    "\n",
    "### Task 1.2 Evaluation\n",
    "\n",
    "Run the algorithm on the news dataset `X_news` with $K =3$. Note that like K-means, Spherical K-means also suffers from bad initialisations. To deal with that, we can run the algorithm multiple times with different random initialisations. To make your life easier, you may want to write a wrapper method that does it automatically.\n",
    "\n",
    "Please report the following information based on your results \n",
    "* the final loss and also plot the loss trajectory\n",
    "* the corresponding adjusted rand index and V-measure\n",
    "* the top 15 terms of each of the three centroids\n",
    "\n",
    "If you run multiple times, you only need to report the results for the best one."
   ]
  },
  {
   "cell_type": "code",
   "execution_count": 11,
   "id": "fb8860ee",
   "metadata": {},
   "outputs": [],
   "source": [
    "def testSphericalMeans(data, R):\n",
    "    losses, us, zs = sphericalKmeans(data)\n",
    "    ridx = metrics.adjusted_rand_score(news_labels, zs)\n",
    "    vm = metrics.v_measure_score(news_labels, zs)\n",
    "    best = vm + ((ridx + 0.5) / 1.5)\n",
    "    for i in range(R-1):\n",
    "        tmp_losses, tmp_us, tmp_zs = sphericalKmeans(data)\n",
    "        tmp_ridx = metrics.adjusted_rand_score(news_labels, tmp_zs)\n",
    "        tmp_vm = metrics.v_measure_score(news_labels, tmp_zs)\n",
    "        score = tmp_vm + ((tmp_ridx + 0.5) / 1.5)\n",
    "        if (score > best):\n",
    "            losses = tmp_losses\n",
    "            us = tmp_us\n",
    "            zs = tmp_zs\n",
    "            vm = tmp_vm\n",
    "            ridx = tmp_ridx\n",
    "            best = score\n",
    "    return losses, us, zs, ridx, vm"
   ]
  },
  {
   "cell_type": "code",
   "execution_count": 12,
   "id": "61229677",
   "metadata": {},
   "outputs": [
    {
     "data": {
      "image/png": "[encoded data removed]",
      "text/plain": [
       "<Figure size 640x480 with 1 Axes>"
      ]
     },
     "metadata": {},
     "output_type": "display_data"
    },
    {
     "name": "stdout",
     "output_type": "stream",
     "text": [
      "Final Loss:   2113.81042\n",
      "Adjusted rand index (Spherical Kmeans):   0.46497\n",
      "V-measure (Spherical Kmeans):   0.45876\n",
      "Cluster 0: space launch nasa earth orbit shuttle spacecraft solar mission satellite moon lunar venus mars larson \n",
      "Cluster 1: god jesus people don bible think just say lord christian christ like know did said \n",
      "Cluster 2: image jpeg graphics edu file images ftp gif data pub software format available files color \n"
     ]
    }
   ],
   "source": [
    "losses, us, zs, ridx, vm = testSphericalMeans(X_news, 3)\n",
    "\n",
    "plt.plot(losses, label = 'Training loss')\n",
    "plt.xlabel(\"Epochs\")\n",
    "plt.ylabel(\"Total Cosine Distance Loss\")\n",
    "plt.show()\n",
    "\n",
    "print(\"Final Loss: \", f\"{losses[-1]: .5f}\")\n",
    "print(\"Adjusted rand index (Spherical Kmeans): \", f\"{ridx: .5f}\")\n",
    "print(\"V-measure (Spherical Kmeans): \", f\"{vm: .5f}\")\n",
    "\n",
    "print_topics(news_terms, us, 15)\n",
    " "
   ]
  },
  {
   "cell_type": "markdown",
   "id": "3ec13b32",
   "metadata": {},
   "source": []
  },
  {
   "cell_type": "markdown",
   "id": "a82c5e01-1854-44f9-b728-eb7b15a901b6",
   "metadata": {},
   "source": [
    "\n",
    "### Task 1.3 Conceptual question\n",
    "\n",
    "\n",
    "##### Compare the performance against K-means', what do you observe? \n",
    "\n",
    "\n"
   ]
  },
  {
   "cell_type": "markdown",
   "id": "acd1b1a1-e27d-47f7-af44-870906188b91",
   "metadata": {},
   "source": [
    "*__Answer__*:"
   ]
  },
  {
   "cell_type": "code",
   "execution_count": 13,
   "id": "d1f4f708",
   "metadata": {},
   "outputs": [
    {
     "name": "stdout",
     "output_type": "stream",
     "text": [
      "=== Rand Index\n",
      "KMeans Adjusted rand index (Kmeans):  -0.00051\n",
      "Spherical KMeans Adjusted rand index (Kmeans):   0.46497\n",
      "=== V-Measure\n",
      "KMeans V-measure (Kmeans):   0.00587\n",
      "Spherical KMeans V-measure (Kmeans):   0.45876\n"
     ]
    }
   ],
   "source": [
    "print(\"=== Rand Index\")\n",
    "\n",
    "print(\"KMeans Adjusted rand index (Kmeans): \", f\"{km_ridx: .5f}\")\n",
    "print(\"Spherical KMeans Adjusted rand index (Kmeans): \", f\"{ridx: .5f}\")\n",
    "\n",
    "print(\"=== V-Measure\")\n",
    "\n",
    "print(\"KMeans V-measure (Kmeans): \", f\"{km_vm: .5f}\")\n",
    "print(\"Spherical KMeans V-measure (Kmeans): \", f\"{vm: .5f}\")"
   ]
  },
  {
   "cell_type": "markdown",
   "id": "00811a80",
   "metadata": {},
   "source": [
    "Given the v-measure and rand-index performance metrics. The spherical k-means is much more successful than the standard k-means algorithm at categorizing terms (several orders of magnitude more so).\n",
    "\n",
    "In addition, subjectively the term categories seem to be more specific. Cluster 0 being computer graphics, cluster 1 being religion, and cluster 2 being astronomy."
   ]
  },
  {
   "cell_type": "markdown",
   "id": "b6812fa9-66cb-4c4e-b890-3eb747df8eb2",
   "metadata": {},
   "source": [
    "\n",
    "##### If Spherical Kmeans performs better, what might be the reason? \n",
    "* Hint: compare cosine distance vs Euclidean distance; what happen if the data's dimension is large?"
   ]
  },
  {
   "cell_type": "markdown",
   "id": "8d8765ff-998a-43f2-b769-02b6d89235c4",
   "metadata": {},
   "source": [
    "*__Answer__*:"
   ]
  },
  {
   "cell_type": "markdown",
   "id": "61786420",
   "metadata": {},
   "source": [
    "The difference between the two algorithms is in the optimisation function for the cluster centers. Standard k-means minimises euclidian distance (the distance between two points), whereas spherical k-means uses cosine distance (angle distance between two points).\n",
    "\n",
    "For text analysis higher numbers of dimensions is useful as there are many categories of text and we want to make sure we seprate them accurately (to prevent the mixed categoires as shown in the question preamble). Euclidian distance is less effective at higher dimensionality because the distance between points becomes relatively equal when averaged over all dimensions. Angles aren't affected in the same way."
   ]
  },
  {
   "cell_type": "markdown",
   "id": "74f597f4-31ad-4a14-84e7-264466c74549",
   "metadata": {},
   "source": [
    "## Question 2 (EM algorithm)\n",
    "\n",
    "\n",
    "\n",
    "In this question, we are going to implement an EM algorithm for finite mixture of Bernoullis which can be used to cluster binary valued images and also generate or complete partial images (the extension part). And, yes, it is called generative AI nowadays. \n",
    "\n",
    "The following writeup looks pretty long, but it only covers the necessary background. The algorithm is fairly simple and has been derived for you. And the implementation typically requires less than 10-15 lines of code. You may skip to the pseudo code and implement the algorithm directly. But remember a solid understanding of the underlying maths is essential when it comes to implementing ML algorithms. \n",
    "\n"
   ]
  },
  {
   "cell_type": "markdown",
   "id": "0abccddb-1dd4-4c97-97bc-ffbdef393eb3",
   "metadata": {},
   "source": [
    "\n",
    "### Overview\n",
    "\n",
    "We are going to use a modified MNIST handwritten digit dataset. The images are essentially $28 \\times 28$ binary matricies, *i.e.* the pixels take values in $\\{0, 1\\}$. The spatial structure of the images is ignored, so each image/matrix is collapsed to a $784$-dimensional binary vector: $\\mathbf{x} \\in \\{0,1\\}^{784}$. \n",
    "\n",
    "The required dataset is imported below. In particular,\n",
    "* `X_mnist_train`: a $4000 \\times 784$ binary matrix, where each row is one image and there are 4000 images in the training data; \n",
    "* `Y_mnist_train`: the corresponding 4000 labels of the images\n",
    "* `X_mnist_test`, `Y_mnist_test`: a further $1000 \\times 784$ test data and labels (required for the extension part)"
   ]
  },
  {
   "cell_type": "code",
   "execution_count": 14,
   "id": "724106c6-48f4-4120-a695-5d2a53b0e7ba",
   "metadata": {},
   "outputs": [],
   "source": [
    "## import MNIST dataset, it might take a while!\n",
    "from sklearn.datasets import fetch_openml\n",
    "mnist = fetch_openml('mnist_784', parser ='auto')"
   ]
  },
  {
   "cell_type": "code",
   "execution_count": 15,
   "id": "9f413b53-907c-42ce-90b0-c612556176ef",
   "metadata": {},
   "outputs": [],
   "source": [
    "X_mnist = np.array(mnist.data) > 0.5 # binary-rise the data\n",
    "Y_mnist = np.array(mnist.target, dtype ='int')\n",
    "X_mnist_train = X_mnist[:4000, :] # use the first 4000 images as training data\n",
    "Y_mnist_train = Y_mnist[:4000]\n",
    "X_mnist_test = X_mnist[4000:5000, :] # the next 1000 as testing\n",
    "Y_mnist_test = Y_mnist[4000:5000]"
   ]
  },
  {
   "cell_type": "markdown",
   "id": "ecf92e58-aed5-4d8b-9024-b7a791fea877",
   "metadata": {},
   "source": [
    "**Supervised learning:**\n",
    "If the labels $\\{z^{(i)}\\}$ are known, the model parameters' estimates are simply the pooled sample means. That is: for $k=1,\\ldots, K$\n",
    "\n",
    "$$\\boldsymbol{\\mu}_k = \\frac{1}{n_k} \\sum_{i=1}^n \\mathbb{1}(z^{(i)} =k)\\mathbf{x}^{(i)}$$\n",
    "\n",
    "* where $n_k = \\sum_{i=1}^n \\mathbb{1}(z^{(i)} =k)$ is the number of images belong to the $k$-th class.\n",
    "* note that each $0\\leq \\mu_{kd} \\leq 1$ indicates how bright a pixel at location $d$ should be (or how likely that pixel is a $1$) assuming it is digit $k$."
   ]
  },
  {
   "cell_type": "code",
   "execution_count": 16,
   "id": "5a01a6ff-8610-437c-bca1-1f739f3966dd",
   "metadata": {},
   "outputs": [],
   "source": [
    "μs_sup = np.zeros((10, 784))\n",
    "for k in range(10):\n",
    "    μs_sup[k, :] = np.mean(X_mnist_train[Y_mnist_train == k, :] , axis=0)"
   ]
  },
  {
   "cell_type": "markdown",
   "id": "aaaaafa7-ce78-4b46-bc35-d9b9bd1a5363",
   "metadata": {},
   "source": [
    "And the learnt centers $\\{\\boldsymbol{\\mu}_k\\}$ are plotted below. They look pretty nice and clean."
   ]
  },
  {
   "cell_type": "code",
   "execution_count": 17,
   "id": "197ece3d-84c5-4ecd-a811-73f60a3c92d8",
   "metadata": {},
   "outputs": [
    {
     "data": {
      "image/png": "[encoded data removed]",
      "text/plain": [
       "<Figure size 700x350 with 10 Axes>"
      ]
     },
     "metadata": {},
     "output_type": "display_data"
    }
   ],
   "source": [
    "figure = plt.figure(figsize=(7, 3.5))\n",
    "rows, cols= 2, 5\n",
    "for k in range(10):\n",
    "    img = μs_sup[k, :].reshape(28, 28)\n",
    "    figure.add_subplot(rows, cols, k+1)\n",
    "    plt.title(k)\n",
    "    plt.axis(\"off\")\n",
    "    plt.imshow(img, cmap=\"gray\")\n",
    "plt.show();"
   ]
  },
  {
   "cell_type": "markdown",
   "id": "1e20fed3-900e-41e0-a9ad-ed5a86bdc987",
   "metadata": {},
   "source": [
    "Next, we are going to solve the problem **unsupervisedly**, *i.e.* do the clustering without knowing the labels $\\{z^{(i)}\\}$. To do it, we need a proper probabilistic generative model."
   ]
  },
  {
   "cell_type": "markdown",
   "id": "80aa7be0-2851-4b00-8ec6-fa5a1057d638",
   "metadata": {},
   "source": [
    "### Finite mixture of Bernoullis\n",
    "_(You can skip this section if you are already familiar with the model)_\n",
    "\n",
    "A finite mixture of Bernoullis (called `MixBern` hereafter) is very similar to other mixture models we have seen in the lecture. Compared with mixture of Gaussian, the only change is that we assume the component's likelihood is a collection of independent Bernoulli random variables. To be more specific, conditioned on the hidden cluster label $z^{(i)} =k$, each pixel, $x_d^{(i)} \\in \\{0, 1\\}$, is an independent Bernoulli random variable (or coin tossing if you prefer) with a bias $\\mu_{kd}$ ($0\\leq \\mu_{kd} \\leq 1$): \n",
    "\n",
    "$$\\begin{align} p(\\mathbf{x}^{(i)}| z^{(i)}=k, \\{\\boldsymbol{\\mu}_k\\}_{k=1}^K) &= \\prod_{d=1}^D p(x_d^{(i)} | z^{(i)}=k, \\boldsymbol{\\mu}_k) \\\\\n",
    "&=\\prod_{d=1}^D \\mu_{kd}^{x^{(i)}_{d}} \\cdot (1-\\mu_{kd})^{1-x^{(i)}_d},\n",
    "\\end{align}$$\n",
    "\n",
    "* where we have used the conditional independence assumption in the first equation then sub-in the Bernoulli's probability mass function in the second line. Make sure you understand the above formulas before moving on. \n",
    "\n",
    "\n",
    "The joint model factors as:\n",
    "\n",
    "$$p(z^{(i)}, \\mathbf{x}^{(i)}) = p(z^{(i)})p( \\mathbf{x}^{(i)}|z^{(i)}),$$\n",
    "\n",
    "* and the joint distribution encodes the following generative process: \n",
    "\n",
    "---\n",
    "for $i=1,\\ldots, n$\n",
    "1. sample $z^{(i)}$ from a prior Categorical distribution with prior proportion parameter $\\boldsymbol{\\pi}$\n",
    "$$z^{(i)} \\sim \\mathcal{Cat}(\\boldsymbol{\\pi})$$\n",
    "\n",
    "2. For each pixel $d = 1,\\ldots, D$,\n",
    "    * conditioned on the sampled $z^{(i)}=k$, sample a Bernoulli variable with bias $\\mu_{kd}$\n",
    "$$x^{(i)}_d \\sim \\mathcal{Ber}(\\mu_{kd})$$\n",
    "\n",
    "----\n",
    "\n",
    "\n",
    "The **observed or marginal likelihood**, due to the sum rule, is \n",
    "\n",
    "$$p(\\mathbf{x}^{(i)}|\\boldsymbol{\\pi}, \\{\\boldsymbol{\\mu}_k\\}) = \\sum_{k=1}^K p(z^{(i)}=k)p( \\mathbf{x}^{(i)}|z^{(i)}=k) = \\sum_{k=1}^K \\pi_k \\cdot p(\\mathbf{x}^{(i)}| \\boldsymbol{\\mu}_k)$$\n",
    "\n",
    "* EM aims to maximise the above w.r.t the model parameter $\\boldsymbol{\\pi}, \\{\\boldsymbol{\\mu}_k\\}$ via an iterative procedure"
   ]
  },
  {
   "cell_type": "markdown",
   "id": "3d81abd3-0ce7-446b-b3b0-b3921748fc82",
   "metadata": {},
   "source": [
    "**Summary of notations**\n",
    "It is a good idea to summarise the notations we have used so far\n",
    "\n",
    "* ``n=4000``, the number of training images; the training data is indexed by $i$\n",
    "* ``D = 784``, the number of pixels of each image vector $\\mathbf{x}$, indexed by $d$\n",
    "* ``K``, the number of mixture components, indexed by $k$\n",
    "\n",
    "The model parameters we aim to learn are\n",
    "\n",
    "$$\\boldsymbol{\\pi} = \\begin{bmatrix}\\pi_1, \\pi_2, \\ldots, \\pi_K \\end{bmatrix}^\\top; \\;\\;\\;\\boldsymbol{\\mu}s = \\begin{bmatrix}\\rule[.5ex]{2.5ex}{0.5pt}  & \\boldsymbol{\\mu}_1^\\top & \\rule[.5ex]{2.5ex}{0.5pt} \\\\\n",
    "\\rule[.5ex]{2.5ex}{0.5pt}  & \\boldsymbol{\\mu}_2^\\top & \\rule[.5ex]{2.5ex}{0.5pt} \\\\\n",
    "&\\vdots& \\\\\n",
    "\\rule[.5ex]{2.5ex}{0.5pt}  & \\boldsymbol{\\mu}_K^\\top & \\rule[.5ex]{2.5ex}{0.5pt} \\\\\n",
    "\\end{bmatrix}_{K\\times D}$$"
   ]
  },
  {
   "cell_type": "markdown",
   "id": "ca3232b7-1995-4035-a287-5029f87ae68f",
   "metadata": {},
   "source": [
    "### Task 2.1 randomly sample from a `MixBern`\n",
    "\n",
    "Firstly, write a method that randomly generates samples from a finite mixture of Bernoullis.  The method should have\n",
    "**input** \n",
    "* `πs`: the prior mixture proportion $\\pi_k$ for $k=1,\\ldots, K$;\n",
    "* `μs`: $K$ sets of bias parameters; or a $K\\times D$ bias matrix (where $0 \\leq\\mu_{kd} \\leq 1$)\n",
    "* `n`: number of samples to generate\n",
    "\n",
    "**output**\n",
    "* `samples`: the gererated samples, should be a ``n`` by ``D`` matrix\n",
    "* `zs`: the true cluster labels, where each $z_i \\in 1, 2\\ldots, K$ is the index of the cluster that has generated the ``i``-th sample.\n",
    "\n"
   ]
  },
  {
   "cell_type": "code",
   "execution_count": 18,
   "id": "e7455c0e-2025-44c9-b4df-74cc632f33f1",
   "metadata": {},
   "outputs": [],
   "source": [
    "def sample_mixberns(πs, μs, n):\n",
    "\tK, d = μs.shape\n",
    "\t## xs supposed to be binary pixels\n",
    "\txs_samples = np.zeros((n, d), dtype='bool')\n",
    "\t# draw the true labels from a categorical distribution with parameter π\n",
    "\tzs = rng.choice(K, n, p=πs)\n",
    "    # fill the missing steps here !\n",
    "\t# Hint: to draw a Bernoulli with bias say 0.8, use rng.random() < 0.8\n",
    "\tfor i in range(n):\n",
    "\t\tvalue = zs[i]\n",
    "\t\tbiases = μs[value]\n",
    "\t\txs_samples[i] = np.random.rand(d) < biases\n",
    "\treturn xs_samples, zs"
   ]
  },
  {
   "cell_type": "markdown",
   "id": "c3897259-f8c2-483b-9bf5-d7bb4f402e4b",
   "metadata": {},
   "source": [
    "\n",
    "Once you have done so, use the implemented method to sample `n=500` samples from a ($K=3$) MixBern with dimension size $D=9$, where the model parameters are\n",
    "* $\\boldsymbol{\\pi} = [0.4, 0.3, 0.3]^\\top$\n",
    "* $\\boldsymbol\\mu_1 = [0.9, 0.9, 0.9, 0.1 \\ldots, 0.1]^\\top$; $\\boldsymbol\\mu_2 = [0.1, 0.1, 0.1, 0.9 , 0.9, 0.9, 0.1, 0.1, 0.1]^\\top$ and $\\boldsymbol\\mu_3 = [0.1,  \\ldots, 0.1, 0.9, 0.9, 0.9]^\\top$; note that `μs` stacks the three vectors vertically to form a $3\\times 9$ matrix\n",
    "\n",
    "\n",
    "The simulated dataset will be very useful later on to debug your EM implementation. "
   ]
  },
  {
   "cell_type": "code",
   "execution_count": 19,
   "id": "597fbfdc-04ed-4d99-a16f-0fc8e753f656",
   "metadata": {},
   "outputs": [
    {
     "data": {
      "image/png": "[encoded data removed]",
      "text/plain": [
       "<Figure size 640x480 with 9 Axes>"
      ]
     },
     "metadata": {},
     "output_type": "display_data"
    }
   ],
   "source": [
    "# to type π: type \\pi + tab; \\mu + tab for Θ\n",
    "trueπs = np.array([0.4, 0.3, 0.3])\n",
    "trueμs = 0.1 * np.ones((3, 9))\n",
    "trueμs[0, 0:3] = 0.9\n",
    "trueμs[1, 3:6] = 0.9\n",
    "trueμs[2, 6:] = 0.9\n",
    "n_size = 500\n",
    "sim_X, truezs = sample_mixberns(trueπs, trueμs, n_size)\n",
    "\n",
    "# Test: Print plot of a few samples to check intuition on biases\n",
    "\n",
    "d_rows = 3\n",
    "d_cols = 3\n",
    "fig = plt.figure()\n",
    "for i in range(0, d_cols*d_rows):\n",
    "    ax = fig.add_subplot(d_rows, d_cols, i+1)\n",
    "    ax.imshow(sim_X[i].reshape(-1, 3), interpolation=\"nearest\", cmap=\"gray\", aspect=1)\n",
    "plt.show()"
   ]
  },
  {
   "cell_type": "markdown",
   "id": "baaaf6bf-55ae-4c95-a5b5-dc778f0e502f",
   "metadata": {},
   "source": [
    "### Task 2.2 E step implementation\n",
    "\n",
    "The E step computes the $n\\times K$ responsibility matrix $\\mathbf{R}$, where each entry $r_{ik} = p( z^{(i)}=k|\\mathbf{x}^{(i)})$ is the posterior probability of the $i$-th observation $\\mathbf{x}^{(i)}$ belongs to the $k$-th cluster. Based on Bayes' rule, \n",
    "\n",
    "$$r_{ik} \\propto \\pi_k\\cdot p(\\mathbf{x}^{(i)}| z^{(i)}=k, \\{\\boldsymbol{\\mu}_k\\})$$\n",
    "\n",
    "We usually work with probabilties in log space, the formula becomes\n",
    "\n",
    "$$\\begin{align}\n",
    "\\ln r_{ik} &= \\ln\\pi_k + \\ln p(\\mathbf{x}^{(i)}| z^{(i)}=k, \\{\\boldsymbol{\\mu}_k\\}) + C\\\\\n",
    "&=\\ln\\pi_k + \\sum_{i=1}^D x_d^{(i)} \\ln\\mu_{kd} + (1-x_d^{(i)}) \\ln(1-\\mu_{kd}) + C\n",
    "\\end{align}$$\n",
    "\n",
    "* make sure the above derivation makes sense to you\n",
    "\n",
    "Now implement the above E-step\n",
    "* `input`: the $n\\times D$ data matrix $\\mathbf{X}$, model parameter $\\boldsymbol{\\pi}$ and $\\boldsymbol{\\mu}s$\n",
    "\n",
    "* `output`: the responsibility matrix and also the average marginal log likelihood: \n",
    "\n",
    "$$\\ell(\\boldsymbol{\\pi}, \\boldsymbol{\\mu}s)=\\frac{1}{n}\\ln p(\\{\\mathbf{x}^{(i)}\\}_{i=1}^n|\\boldsymbol{\\pi}, \\{\\boldsymbol{\\mu}_k\\}) = \\frac{1}{n} \\sum_{i=1}^n\\ln\\left \\{ \\sum_{k=1}^K \\pi_k \\cdot p(\\mathbf{x}^{(i)}| \\boldsymbol{\\mu}_k)\\right \\}$$"
   ]
  },
  {
   "cell_type": "markdown",
   "id": "d47ccb1b-091a-4b05-81e7-4e2a92c2fb2e",
   "metadata": {},
   "source": [
    "## Hints\n",
    "\n",
    "\n",
    "* It is a good idea to implement the log likelihood for the indepenet Bernoulli model first. i.e. \n",
    "\n",
    "    ```python\n",
    "    def logpdf(X, μk):\n",
    "    \t...\n",
    "    ```\n",
    "  where it implements the following log-likelihood\n",
    "\n",
    "$$\\ln p(\\mathbf{x}^{(i)}| z^{(i)}=k, \\boldsymbol{\\mu}s)= \\sum_{i=1}^D\\left(x_d^{(i)} \\ln\\mu_{kd} + (1-x_d^{(i)}) \\ln(1-\\mu_{kd})\\right)$$\n",
    "\n",
    "* Note that it is just sum of $D$ (negative) cross-entropy losses!\n",
    "* It is a good idea to `np.clip` $\\mu$ (and $1-\\mu$ ) with a lower bound `np.finfo(float).eps` so $\\ln (\\mu)$ does not return -Inf: check the difference between `np.log(0)` and `np.log(eps(Float64))`\n",
    "\n",
    "\n",
    "* Debug your E-step with the simulated dataset. You should use the true π and true μ; if your E-step is correctly implemented, the returned responsibility matrix should match the true `zs` well."
   ]
  },
  {
   "cell_type": "code",
   "execution_count": 20,
   "id": "ebdeeff4-8b70-4a4c-a387-59664b866d56",
   "metadata": {},
   "outputs": [],
   "source": [
    "def logpdf(X, μk):\n",
    "    return np.sum(X[:, None, :] * np.log(np.clip(μk, np.finfo(float).eps, None)) + (1 - X[:, None, :]) * np.log(np.clip(1 - μk, np.finfo(float).eps, None)), axis=2)\n",
    "\n",
    "def e_step(X, πs, μs):\n",
    "    n, d = X.shape\n",
    "    K = len(πs)\n",
    "\n",
    "    # Log Likelihoods\n",
    "    logLik = np.log(np.clip(πs, np.finfo(float).eps, None)) + logpdf(X, μs)\n",
    "\n",
    "    # Responsibilities\n",
    "    R = np.exp(logLik)\n",
    "    \n",
    "    # Normalize\n",
    "    R /= R.sum(axis=1, keepdims=True)\n",
    "\n",
    "    logLik = np.mean(np.log(np.exp(logLik).sum(axis=1)))    \n",
    "    \n",
    "    return R, logLik"
   ]
  },
  {
   "cell_type": "code",
   "execution_count": 21,
   "id": "c82a91fe",
   "metadata": {},
   "outputs": [
    {
     "name": "stdout",
     "output_type": "stream",
     "text": [
      "[[2.50851327e-06 1.52392181e-04 9.99845099e-01]\n",
      " [2.50851327e-06 1.52392181e-04 9.99845099e-01]\n",
      " [9.99771429e-01 1.14285714e-04 1.14285714e-04]\n",
      " ...\n",
      " [2.50889088e-06 1.88166816e-06 9.99995609e-01]\n",
      " [2.50889088e-06 1.88166816e-06 9.99995609e-01]\n",
      " [9.90713477e-01 1.13250283e-04 9.17327293e-03]] -3.9886143283484743\n",
      "Agreement with truezs: 0.982\n"
     ]
    }
   ],
   "source": [
    "R, loglik = e_step(sim_X, trueπs, trueμs)\n",
    "print(R, loglik)\n",
    "print(\"Agreement with truezs:\", (R.argmax(axis=1) == truezs).sum() / R.shape[0])"
   ]
  },
  {
   "cell_type": "markdown",
   "id": "8e1ee207-5962-487e-8df9-9f0663577c95",
   "metadata": {},
   "source": [
    "### Task 2.3 M step implementation\n",
    "\n",
    "The M step re-estimates the model parameter based on $\\mathbf{R}$. Luckily, the re-estimation is exactly the same as EM for Gaussian mixture. In other words, the weighted MLE estimator for $\\boldsymbol{\\mu}_k$ are just the weighted sample average.\n",
    "\n",
    "---\n",
    "For $k=1, \\ldots, K$:\n",
    "\n",
    "$$\\pi_k = \\frac{n_k}{n};\\;\\; \\boldsymbol{\\mu}_k = \\frac{\\sum_{i=1}^n r_{ik} \\cdot \\mathbf{x}^{(i)}}{n_k},$$\n",
    "\n",
    "\n",
    "* where $n_k = \\sum_{i=1}^n r_{ik}$\n",
    "---\n",
    "\n",
    "Now implement the above M-step \n",
    "* `input`: the $n\\times D$ data matrix and responsibility matrix\n",
    "\n",
    "* `output`: the reestimated parameters $\\boldsymbol{\\pi}$ and $\\boldsymbol{\\mu}s$\n",
    "\n"
   ]
  },
  {
   "cell_type": "code",
   "execution_count": 22,
   "id": "ca41db29-ef4d-498d-913f-232461f0e66b",
   "metadata": {},
   "outputs": [],
   "source": [
    "def m_step(X, R):\n",
    "    n, d = X.shape\n",
    "    K = R.shape[1]\n",
    "\n",
    "    # Compute πs\n",
    "    Nk = R.sum(axis=0)\n",
    "    πs = Nk / n\n",
    "\n",
    "    # Compute μs\n",
    "    μs = (R.T @ X) / Nk[:, None]\n",
    "\n",
    "    return πs, μs"
   ]
  },
  {
   "cell_type": "code",
   "execution_count": 23,
   "id": "d14724d0",
   "metadata": {},
   "outputs": [
    {
     "name": "stdout",
     "output_type": "stream",
     "text": [
      "[0.39525641 0.28460996 0.32013363]\n",
      "[[0.90363208 0.8602437  0.91214558 0.11030396 0.08141756 0.09504369\n",
      "  0.10422944 0.10487373 0.09308539]\n",
      " [0.07385527 0.08862131 0.10393215 0.93243921 0.91256276 0.87686647\n",
      "  0.10254624 0.15147122 0.08836152]\n",
      " [0.06813929 0.08359214 0.08711514 0.10939235 0.06901724 0.1089184\n",
      "  0.84844871 0.8853733  0.88731332]]\n"
     ]
    }
   ],
   "source": [
    "πs, μs = m_step(sim_X, R)\n",
    "print(πs)\n",
    "print(μs)"
   ]
  },
  {
   "cell_type": "markdown",
   "id": "45bc4624-f296-45c2-a5e1-4d12ff2dbfe9",
   "metadata": {},
   "source": [
    "### Task 2.4 EM algorithm for MixBerns\n",
    "\n",
    "Implement an EM algorithm that can learn the parameters of finite mixture of Bernoullis. A simple initialisation strategy is to randomly assign each observation to one of the $K$ cluster (initialise with a E step) then find the corresponding $\\boldsymbol{\\mu}s$. Feel free to try other initialisations. \n",
    "\n",
    "The method takes similar input as `sphericalKmeans` but it should output\n",
    "* `logLiks`: the trajectory of the (log)-likelihood\n",
    "* `πs, μs`: the learnt parameters of the finite mixture model\n",
    "* `R` and `zs`: the responsibility matrix and the assigned clusters of the observations\n"
   ]
  },
  {
   "cell_type": "code",
   "execution_count": 24,
   "id": "c79487d3-cd26-4471-b79a-915cbb1742d6",
   "metadata": {},
   "outputs": [],
   "source": [
    "def em_mixberns(X, K, tol = 1e-4, maxIters = 100):\n",
    "\t## initilisation\n",
    "\tn, d = X.shape\n",
    "\tlogLiks = []\n",
    "\n",
    "\tπs = np.zeros(K)\n",
    "\tμs = np.zeros((K, d))\n",
    "\t\n",
    "\tR = np.random.rand(n, K)\n",
    "\tR /= R.sum(axis=1)[:, None]\n",
    "\t\n",
    "\tπs, μs = m_step(X, R)\n",
    "\n",
    "\t## E-M loop\n",
    "\t## repeat until converge\n",
    "\tfor i in range(maxIters):\n",
    "\t  ## E step\n",
    "\t\tR, logLik = e_step(X, πs, μs)\n",
    "\t  ## M step\n",
    "\t\tπs, μs = m_step(X, R)\n",
    "\t\tlogLiks.append(logLik)\n",
    "\t\tif (len(logLiks) > 1 and abs(logLiks[-2] - logLiks[-1]) < tol):\n",
    "\t\t\tbreak;\n",
    "\treturn logLiks, πs, μs, R.argmax(axis=1), R"
   ]
  },
  {
   "cell_type": "markdown",
   "id": "e2221c94-dbeb-4dce-b741-ae361cd9989a",
   "metadata": {},
   "source": [
    "#### Evaluate on the simulated dataset\n",
    "\n",
    "Run your EM algorithm on the dataset simulated in Task 2.1. \n",
    "You may need to repeat the algorithm a few times with different random initialisations to avoid bad initialisations. You need to show:\n",
    "* whether your algorithm can recover the true parameters when correct $K=3$ is given ? \n",
    "* plot the (log)Likelihood trajectory\n",
    "\n",
    "Report your results below."
   ]
  },
  {
   "cell_type": "code",
   "execution_count": 25,
   "id": "1899314a-cbab-42b5-afe9-6f2c7b473bae",
   "metadata": {},
   "outputs": [
    {
     "data": {
      "image/png": "[encoded data removed]",
      "text/plain": [
       "<Figure size 640x480 with 1 Axes>"
      ]
     },
     "metadata": {},
     "output_type": "display_data"
    },
    {
     "name": "stdout",
     "output_type": "stream",
     "text": [
      "[0.28154084 0.39659837 0.32186079]\n",
      "[0.4 0.3 0.3]\n",
      "[[0.07202994 0.09060461 0.09841422 0.93764147 0.9254117  0.87868026\n",
      "  0.10478896 0.15655549 0.08422865]\n",
      " [0.90291001 0.85616525 0.91374183 0.1130311  0.08137224 0.09796183\n",
      "  0.10410367 0.10488747 0.09163591]\n",
      " [0.06719671 0.08369256 0.08669542 0.10932578 0.06582572 0.11111673\n",
      "  0.84263226 0.87716506 0.88840751]]\n",
      "[[0.9 0.9 0.9 0.1 0.1 0.1 0.1 0.1 0.1]\n",
      " [0.1 0.1 0.1 0.9 0.9 0.9 0.1 0.1 0.1]\n",
      " [0.1 0.1 0.1 0.1 0.1 0.1 0.9 0.9 0.9]]\n",
      "Agreement with truezs: 0.318\n"
     ]
    }
   ],
   "source": [
    "logLiks, πs, μs, zs, R = em_mixberns(sim_X, 3);\n",
    "\n",
    "plt.plot(logLiks, label = 'Sample loss')\n",
    "plt.xlabel(\"Epochs\")\n",
    "plt.ylabel(\"Binary Cross-Entropy Log Loss\")\n",
    "plt.show()\n",
    "\n",
    "print(πs)\n",
    "print(trueπs)\n",
    "\n",
    "print(μs)\n",
    "print(trueμs)\n",
    "\n",
    "\n",
    "# print(\"--- ZS ---\")\n",
    "# print(zs)\n",
    "# print(truezs)\n",
    "\n",
    "print(\"Agreement with truezs:\", (zs == truezs).sum() / zs.shape[0])"
   ]
  },
  {
   "cell_type": "markdown",
   "id": "595f471c",
   "metadata": {},
   "source": [
    "This algorithm can recover the correct parameters to a reasonable degree of error with $K=3$, but it is uncommon given the initializatin. Often $1-$ the real value are found. Therefore, this value would only be appropriate on a supervised training set with known labels to check against."
   ]
  },
  {
   "cell_type": "markdown",
   "id": "668555fa-9452-4240-bdab-b8a07c7ce7f1",
   "metadata": {},
   "source": [
    "\n",
    "#### Evaluate on MNIST\n",
    "Run your EM algorithm on the MNIST dataset with $K=10$ and report the following\n",
    "\n",
    "* plot the log likelihood trajectory\n",
    "\n",
    "* report the adjusted rand index \n",
    "\n",
    "* plot the $K$ centers found by the EM algorithm (*i.e.* each row of $\\boldsymbol{\\mu}s$) as 28 by 28 pixeled images\n"
   ]
  },
  {
   "cell_type": "code",
   "execution_count": 26,
   "id": "55f463e6",
   "metadata": {},
   "outputs": [],
   "source": [
    "K = 10\n",
    "REPEATS = 2\n",
    "\n",
    "logLiks, πs, μs, zs, R = em_mixberns(X_mnist_train, K);\n",
    "maxLogLik = logLiks[-1]\n",
    "\n",
    "for i in range(REPEATS-1):\n",
    "  tmp_logLiks, tmp_πs, tmp_μs, tmp_zs, tmp_R = em_mixberns(X_mnist_train, K);\n",
    "  if (tmp_logLiks[-1] > maxLogLik):\n",
    "    logLiks = tmp_logLiks\n",
    "    maxLogLoss = logLiks[-1]\n",
    "    πs = tmp_πs\n",
    "    μs = tmp_μs\n",
    "    zs = tmp_zs\n",
    "    R = tmp_R\n",
    "  \n",
    "em_mixberns_mnist_ridx = metrics.adjusted_rand_score(Y_mnist_train, zs)\n"
   ]
  },
  {
   "cell_type": "code",
   "execution_count": 27,
   "id": "baa955b7-9bea-41fe-acad-25a562d0c1c9",
   "metadata": {},
   "outputs": [
    {
     "data": {
      "image/png": "[encoded data removed]",
      "text/plain": [
       "<Figure size 640x480 with 1 Axes>"
      ]
     },
     "metadata": {},
     "output_type": "display_data"
    },
    {
     "data": {
      "image/png": "[encoded data removed]",
      "text/plain": [
       "<Figure size 500x500 with 10 Axes>"
      ]
     },
     "metadata": {},
     "output_type": "display_data"
    },
    {
     "name": "stdout",
     "output_type": "stream",
     "text": [
      "Rand Index:\n",
      "0.36698835436765287\n"
     ]
    }
   ],
   "source": [
    "plt.plot(logLiks, label = 'MNIST Train loss')\n",
    "plt.xlabel(\"Epochs\")\n",
    "plt.ylabel(\"Binary Cross-Entropy Log Loss\")\n",
    "plt.show()\n",
    "\n",
    "d_rows = 5\n",
    "d_cols = 5\n",
    "k = πs.shape[0]\n",
    "fig = plt.figure(figsize=(d_rows, d_cols))\n",
    "for i in range(k):\n",
    "    ax = fig.add_subplot(d_rows, d_cols, i+1)\n",
    "    ax.imshow(μs[i].reshape(-1, 28), interpolation=\"nearest\", cmap=\"gray\", aspect=1)\n",
    "    ax.axis(\"off\")\n",
    "plt.show()\n",
    "\n",
    "print(\"Rand Index:\")\n",
    "print(em_mixberns_mnist_ridx)"
   ]
  },
  {
   "cell_type": "markdown",
   "id": "a7f78a48-6912-4506-b6a2-8950e5218096",
   "metadata": {},
   "source": [
    "\n",
    "### Task 2.5* Image generation (Extension)\n",
    "\n",
    "Probabilistic generative models such as MixBerns can be used to generate new images.  It is because the model comprises distributions for both the hidden label $z$ and also the feature data $\\mathbf{x}$. \n",
    "\n",
    "Now consider the following problem. You are given partially observed images (*e.g.* images on the left-hand side) and want to complete the images. The original images are listed in the middle column. The completed images (on the right-hand side) are generated by a learnt MixBern model (with $K=15$). Although MixBern's model is very basic and not \"deep\" in any sense, it does a decent job at generating hand-written images at least. \n",
    "\n",
    "![p1](https://leo.host.cs.st-andrews.ac.uk/CS5014/P2/mnist_cover.png)\n",
    "![p2](https://leo.host.cs.st-andrews.ac.uk/CS5014/P2/mnist_origin.png)\n",
    "![p3](https://leo.host.cs.st-andrews.ac.uk/CS5014/P2/mnist_impute.png)\n",
    "\n",
    "\n",
    "\n",
    "\n",
    "![p1](https://leo.host.cs.st-andrews.ac.uk/CS5014/P2/mnist_cover2.png)\n",
    "![p2](https://leo.host.cs.st-andrews.ac.uk/CS5014/P2/mnist_origin.png)\n",
    "![p3](https://leo.host.cs.st-andrews.ac.uk/CS5014/P2/mnist_impute2.png)"
   ]
  },
  {
   "cell_type": "markdown",
   "id": "093d5de2-1b9d-4c3c-a59d-0c77870bb92f",
   "metadata": {},
   "source": [
    "#### Posterior predictive distribution\n",
    "The benefit of adopting a formal probabilistic approach is that all ML problems uniformly translate to formal probabilistic inferences. And the results emerge naturally.\n",
    "\n",
    "To be more specific, one only needs to implement a posterior predictive distribution for the missing data. Denote the observed pixel index set as $\\mathcal{O}$, and the missing/hidden pixel index set as $\\mathcal{H}$. Note that $\\mathcal{O} \\cup\\mathcal{H} = \\{1,2,\\ldots, 784\\}$. The posterior predictive distribution is defined as \n",
    "\n",
    "\n",
    "$$p(\\mathbf{x}_{\\mathcal{H}}=\\mathbf{1}|\\mathbf{x}_{\\mathcal{O}}, \\boldsymbol{\\pi}, \\{\\boldsymbol{\\mu}_k\\}) = \\sum_{k=1}^K p(\\mathbf{x}_{\\mathcal{H}}=\\mathbf{1} |z=k,  \\boldsymbol{\\mu}_k) p(z =k|\\mathbf{x}_{\\mathcal{O}})$$\n",
    "\n",
    "* where $\\mathbf{x}_\\mathcal{O}$ denotes the observed sub-vector and $\\mathbf{x}_\\mathcal{H}$ is the missing/hidden part\n",
    "\n",
    "* the above distribution is a weighted average of $K$ predictions and each predictions are simply\n",
    "\n",
    "$$p(\\mathbf{x}_{\\mathcal{H}} =\\mathbf{1} |z=k,  \\boldsymbol{\\mu}_k) = \\boldsymbol{\\mu}_{k,\\mathcal{H}}$$\n",
    " \n",
    "* and we can show the posterior is almost the same as before, but simply ignore the missing pixels\n",
    "\n",
    "$$p(z =k|\\mathbf{x}_{\\mathcal{O}}) \\propto \\pi_k \\prod_{d \\in \\mathcal{O}} p(x_d|z=k, \\boldsymbol{\\mu}_k)$$"
   ]
  },
  {
   "cell_type": "markdown",
   "id": "2f340f59-122a-4a85-894e-95a1f047abfc",
   "metadata": {},
   "source": [
    "#### Task 2.5.1 Conceptual question\n",
    "* show that the above posterior predictive distributions are correct based on the generative model and probability rules.\n",
    "\n"
   ]
  },
  {
   "cell_type": "markdown",
   "id": "8ccc52dc",
   "metadata": {},
   "source": [
    "***Answer:***\n",
    "\n",
    "TODO: Show posterior pred dist are correct based on gen model and prob rules"
   ]
  },
  {
   "cell_type": "markdown",
   "id": "5112d709",
   "metadata": {},
   "source": [
    "#### Task 2.5.2 Implementation \n",
    "\n",
    "(I strongly encourage you to attempt this extension. It only requires less than 3-4 additional lines of code.) \n",
    "\n",
    "* Replicate the above result by implementing `posterior_predictive_impute(...)`\n",
    "  * `input`: a vector with missing data and learnt model parameter $\\boldsymbol{\\pi}$ and $\\boldsymbol{\\mu}s$\n",
    "  * `output`: an imputed vector where the missing parts are inputed with the posterior mean\n",
    "\n",
    "\n",
    "Hint: just change the `E-step` first (to incorporate the missing data, ignore the missing pixels) then compute a weighted average)"
   ]
  },
  {
   "cell_type": "code",
   "execution_count": 28,
   "id": "94123657-e049-408c-b1e6-c8f47f29d0b2",
   "metadata": {},
   "outputs": [],
   "source": [
    "## generate images with missing pixels for the top half\n",
    "X_mnist_cover1 = np.empty_like(X_mnist_test, dtype='f')\n",
    "X_mnist_cover1[:] = X_mnist_test\n",
    "# setting the top half pixels to nan/missing\n",
    "X_mnist_cover1[:, 0: int(784//2)] = np.nan\n",
    "## try other ways to cover the images!"
   ]
  },
  {
   "cell_type": "code",
   "execution_count": 29,
   "id": "6d426b1e-52eb-42db-83df-ce80b497c8a6",
   "metadata": {},
   "outputs": [],
   "source": [
    "def dlogpdf(x, μk):\n",
    "    return (x * np.log(np.clip(μk, np.finfo(float).eps, None)) + ((1 - x) * np.log(np.clip(1 - μk, np.finfo(float).eps, None)))).sum(axis=1)\n",
    "\n",
    "def posterior_predictive_impute(x, πs, μs):\n",
    "    # Find the missing idx/observed idx set of x\n",
    "    missing_idx = np.isnan(x)\n",
    "    observed_idx = ~missing_idx\n",
    "\n",
    "    # Compute likelihood for each cluster\n",
    "    logLiks = dlogpdf(x[observed_idx], μs[:, observed_idx])\n",
    "\n",
    "    posteriors = np.exp(np.log(πs) + logLiks)\n",
    "\n",
    "    # Normalize\n",
    "    posteriors /= posteriors.sum(axis=0)\n",
    "\n",
    "    # Compute predictive mean for missing values\n",
    "    pred_x_missing = np.dot(posteriors, μs[:, missing_idx])\n",
    "\n",
    "\n",
    "    # Add back the observed pixels to the predictive mean\n",
    "    pred_x = np.copy(x)\n",
    "    pred_x[missing_idx] = pred_x_missing\n",
    "\n",
    "    return pred_x"
   ]
  },
  {
   "cell_type": "code",
   "execution_count": 30,
   "id": "2af294e3",
   "metadata": {},
   "outputs": [],
   "source": [
    "K = 15\n",
    "REPEATS = 2\n",
    "\n",
    "logLiks, πs, μs, zs, R = em_mixberns(X_mnist_train, K);\n",
    "maxLogLik = logLiks[-1]\n",
    "\n",
    "for i in range(REPEATS-1):\n",
    "  tmp_logLiks, tmp_πs, tmp_μs, tmp_zs, tmp_R = em_mixberns(X_mnist_train, K);\n",
    "  if (tmp_logLiks[-1] > maxLogLik):\n",
    "    logLiks = tmp_logLiks\n",
    "    maxLogLoss = logLiks[-1]\n",
    "    πs = tmp_πs\n",
    "    μs = tmp_μs\n",
    "    zs = tmp_zs\n",
    "    R = tmp_R"
   ]
  },
  {
   "cell_type": "code",
   "execution_count": 31,
   "id": "27fb0bda",
   "metadata": {},
   "outputs": [
    {
     "data": {
      "image/png": "[encoded data removed]",
      "text/plain": [
       "<Figure size 800x800 with 64 Axes>"
      ]
     },
     "metadata": {},
     "output_type": "display_data"
    }
   ],
   "source": [
    "d_rows = 8\n",
    "d_cols = 8\n",
    "k = πs.shape[0]\n",
    "fig = plt.figure(figsize=(d_rows,d_cols))\n",
    "for i in range(d_rows * d_cols):\n",
    "    pred = posterior_predictive_impute(X_mnist_cover1[i], πs, μs)\n",
    "    ax = fig.add_subplot(d_rows, d_cols, i+1)\n",
    "    ax.imshow(pred.reshape(-1, 28), interpolation=\"nearest\", cmap=\"gray\", aspect=1)\n",
    "    ax.axis(\"off\")\n",
    "    ax.set_aspect(\"equal\")\n",
    "plt.subplots_adjust(wspace=0.1, hspace=0.1)\n",
    "plt.show()\n"
   ]
  },
  {
   "cell_type": "markdown",
   "id": "f9b10cb5",
   "metadata": {},
   "source": [
    "## Submission\n",
    "Hand in via MMS: the completed jupyter notebook. Your notebook should be reproducible. \n",
    "\n"
   ]
  },
  {
   "cell_type": "markdown",
   "id": "4422044c",
   "metadata": {},
   "source": [
    "## Marking\n",
    "Your submission will be marked as a whole. \n",
    "\n",
    "* to get a grade up to 13, you are expected to complete Question 1 to a good standard\n",
    "* to get a grade above 13 and up to 15, you are expected to complete all tasks except 2.4 and 2.5 to a good standard\n",
    "* to achieve a grade of 16-18, you are expected to finish all tasks except Task 2.5 flawlessly \n",
    "* to get a mark above 18, you are expected to make a reasonable attempt on either part of the extension\n",
    "\n",
    "\n",
    "Marking is according to the standard mark descriptors published in the Student Handbook at:\n",
    "\n",
    "https://info.cs.st-andrews.ac.uk/student-handbook/learning-teaching/feedback.html#GeneralMarkDescriptors\n",
    "\n",
    "\n",
    "You must reference any external sources used. Guidelines for good academic practice are outlined in the student handbook at https://info.cs.st-andrews.ac.uk/student-handbook/academic/gap.html"
   ]
  }
 ],
 "metadata": {
  "kernelspec": {
   "display_name": "Python 3 (ipykernel)",
   "language": "python",
   "name": "python3"
  },
  "language_info": {
   "codemirror_mode": {
    "name": "ipython",
    "version": 3
   },
   "file_extension": ".py",
   "mimetype": "text/x-python",
   "name": "python",
   "nbconvert_exporter": "python",
   "pygments_lexer": "ipython3",
   "version": "3.11.2"
  }
 },
 "nbformat": 4,
 "nbformat_minor": 5
}
